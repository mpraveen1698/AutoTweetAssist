{
 "cells": [
  {
   "cell_type": "code",
   "execution_count": 6,
   "id": "a6168980",
   "metadata": {},
   "outputs": [],
   "source": [
    "# Send Tweets from twitter API\n",
    "#Import necessary packages\n",
    "import tweepy\n",
    "from tweepy import OAuthHandler\n",
    "import json\n",
    "from flask import Flask, request\n",
    "import random"
   ]
  },
  {
   "cell_type": "code",
   "execution_count": 10,
   "id": "910c3e45",
   "metadata": {},
   "outputs": [],
   "source": [
    "class ReplyTweet:\n",
    "    \n",
    "    def __init__(self):\n",
    "        \n",
    "        # access_token = \"1412669800707330048-vsa6dPAQQKpOzggTFKq2Xue2jO6U4W\"\n",
    "        # access_secret= \"cDCOldC8YzFxEx9P8IW6oAHaWJ1pSU2vpSlzJJRvMhf8F\"\n",
    "\n",
    "        # consumer_key = \"QpgMPt5vsM2Zfgkixm24eDQWD\"\n",
    "        # consumer_secret = \"67wvFXE2qKiCwh7Mm7iSMfwwPT3Q74pdr7YvtWh6BUeg19IJpC\"\n",
    "\n",
    "        consumer_key = \"KrpldAaTWmrr2XtGwnJekvl1p\"\n",
    "        consumer_secret = \"RuKuZ3DxiznQLRSTaLETW5yTJTrZi9GERIgQucIS3V7tME8BIJ\"\n",
    "        access_token = \"1853216357006954496-hIYovOtn0pP6O9wssctKSZVZNaoNAb\"\n",
    "        access_secret = \"y9JC3Wna0kdaVjbGQuzMIYZGot88x7lQjS6a1HbB585Ge\"\n",
    "        \n",
    "        auth = OAuthHandler(consumer_key, consumer_secret)\n",
    "        auth.set_access_token(access_token, access_secret)\n",
    "        self.api = tweepy.API(auth,wait_on_rate_limit=True)\n",
    "    \n",
    "    def sendReply(self, tweetId, user, text):\n",
    "        try:\n",
    "            text = \"@\"+user +\" \" + text\n",
    "            print(text)\n",
    "            self.api.update_status(text, int(tweetId))\n",
    "            return True\n",
    "        except Exception as e:\n",
    "            print(e)\n",
    "            return False\n",
    "    \n",
    "    def getReplyText(self, complain_type, ticketId):\n",
    "        reply_txt = \"Appologies for the inconvience cause. We are taking this via ticket id \"+str(ticketId)+\" and resolve asap. You can track the status at https://www.dezyre.com/contact-us\"\n",
    "        return reply_txt\n",
    "    \n",
    "    def reply_toTweet(self, tweetId, complain, complain_type, user):\n",
    "        if bool(complain):\n",
    "            ticketId = int(random.random() * 100000)\n",
    "            txt = self.getReplyText(complain_type, ticketId)\n",
    "            replied = self.sendReply(tweetId, user, txt)\n",
    "        else:\n",
    "            ticketId = \"\"\n",
    "            replied = False\n",
    "        return json.dumps({\"replied\" : replied, \"ticketId\" : ticketId})\n",
    "            \n",
    "        "
   ]
  },
  {
   "cell_type": "code",
   "execution_count": null,
   "id": "6b8bd033",
   "metadata": {},
   "outputs": [],
   "source": [
    "{'complain': 'ejgij godjgo','complain_type':'billing', 'user': '1853216357006954496', 'tweetId': '1853509526592368902'}"
   ]
  },
  {
   "cell_type": "code",
   "execution_count": 11,
   "id": "2e977656",
   "metadata": {},
   "outputs": [],
   "source": [
    "# app = Flask(__name__)\n",
    "\n",
    "# @app.route('/', methods = ['POST'])\n",
    "def replyTweet():\n",
    "    # print(request.form)\n",
    "    # data = request.form\n",
    "    data={'complain': True,'complain_type':'billing', 'user': '1853216357006954496', 'tweetId': '1853509526592368902'}\n",
    "    reply = ReplyTweet()\n",
    "    return reply.reply_toTweet(data['tweetId'], data['complain'], data['complain_type'], data['user']) \n",
    "\n",
    "# if __name__ == '__main__':\n",
    "    \n",
    "#     app.run()"
   ]
  },
  {
   "cell_type": "code",
   "execution_count": 13,
   "id": "e4e1e1f5",
   "metadata": {},
   "outputs": [
    {
     "name": "stdout",
     "output_type": "stream",
     "text": [
      "@1853216357006954496 Appologies for the inconvience cause. We are taking this via ticket id 89436 and resolve asap. You can track the status at https://www.dezyre.com/contact-us\n",
      "API.update_status() takes 2 positional arguments but 3 were given\n"
     ]
    },
    {
     "data": {
      "text/plain": [
       "'{\"replied\": false, \"ticketId\": 89436}'"
      ]
     },
     "execution_count": 13,
     "metadata": {},
     "output_type": "execute_result"
    }
   ],
   "source": [
    "replyTweet()"
   ]
  },
  {
   "cell_type": "code",
   "execution_count": 8,
   "id": "a23d87d1",
   "metadata": {},
   "outputs": [],
   "source": [
    "# # 1414631367086776327\n",
    "\n",
    "# access_token = \"1412669800707330048-vsa6dPAQQKpOzggTFKq2Xue2jO6U4W\"\n",
    "# access_secret= \"cDCOldC8YzFxEx9P8IW6oAHaWJ1pSU2vpSlzJJRvMhf8F\"\n",
    "\n",
    "# consumer_key = \"QpgMPt5vsM2Zfgkixm24eDQWD\"\n",
    "# consumer_secret = \"67wvFXE2qKiCwh7Mm7iSMfwwPT3Q74pdr7YvtWh6BUeg19IJpC\"\n",
    "\n",
    "# auth = OAuthHandler(consumer_key, consumer_secret)\n",
    "# auth.set_access_token(access_token, access_secret)\n",
    "# api = tweepy.API(auth,wait_on_rate_limit=True)\n",
    "\n",
    "# api.update_status(\"@_nihit_ I am fine, thanks!\", int(\"1414631367086776327\"))\n"
   ]
  },
  {
   "cell_type": "code",
   "execution_count": null,
   "id": "13fea1e3",
   "metadata": {},
   "outputs": [],
   "source": []
  }
 ],
 "metadata": {
  "kernelspec": {
   "display_name": "Python 3",
   "language": "python",
   "name": "python3"
  },
  "language_info": {
   "codemirror_mode": {
    "name": "ipython",
    "version": 3
   },
   "file_extension": ".py",
   "mimetype": "text/x-python",
   "name": "python",
   "nbconvert_exporter": "python",
   "pygments_lexer": "ipython3",
   "version": "3.12.3"
  }
 },
 "nbformat": 4,
 "nbformat_minor": 5
}
