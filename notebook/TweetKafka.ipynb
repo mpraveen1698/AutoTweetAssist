{
 "cells": [
  {
   "cell_type": "code",
   "execution_count": 119,
   "id": "bc2d1f56",
   "metadata": {},
   "outputs": [],
   "source": [
    "\n",
    "# !pip install tweepy\n",
    "#!pip install kafka-python\n",
    "\n",
    "#!pip install git+https://github.com/dpkp/kafka-python.git"
   ]
  },
  {
   "cell_type": "code",
   "execution_count": null,
   "id": "5009acab",
   "metadata": {},
   "outputs": [],
   "source": []
  },
  {
   "cell_type": "markdown",
   "id": "044db0d1",
   "metadata": {},
   "source": []
  },
  {
   "cell_type": "code",
   "execution_count": 1,
   "id": "ff491426",
   "metadata": {},
   "outputs": [],
   "source": [
    "import tweepy\n",
    "from tweepy import StreamingClient,OAuth2BearerHandler\n",
    "\n",
    "from kafka import KafkaProducer\n",
    "import json"
   ]
  },
  {
   "cell_type": "code",
   "execution_count": 2,
   "id": "eefd295f",
   "metadata": {},
   "outputs": [],
   "source": [
    "\n",
    "producer = KafkaProducer(bootstrap_servers='localhost:9092') #Same port as your Kafka server\n",
    "topic_name = \"tweet-data\""
   ]
  },
  {
   "cell_type": "code",
   "execution_count": 123,
   "id": "acfe636b",
   "metadata": {},
   "outputs": [],
   "source": [
    "\n",
    "consumer_key = \"excGmpgYvQTjLeMgXWHxFIczo\"\n",
    "consumer_secret = \"uIj0ldQKzfi7hGU3Fb6HC4vloimoB7cMWatnF2LoFZ5MswBAMy\"\n",
    "access_token = \"1853216357006954496-MbnigHotkFXYoKuXdBoPln9UED7BbZ\"\n",
    "access_token_secret = \"A1UyV3fyjUxZfQ2xLXuaIeUuoUaTPx8HYlRxlulxBCUmD\"\n",
    "bearer_token = \"AAAAAAAAAAAAAAAAAAAAAD8WwwEAAAAAKqFi8rire0kRaFL%2FkfmAZteY%2BBY%3DsiPp46hvu8fktNbpyhYj3N0lOtflCV66FphbsB1HHEOo3AQfOa\""
   ]
  },
  {
   "cell_type": "code",
   "execution_count": 3,
   "id": "5dd21b88",
   "metadata": {},
   "outputs": [],
   "source": [
    "\n",
    "import json\n",
    "\n",
    "class TweetsListener:\n",
    "    \"\"\"Process fetched tweets and send them to Kafka.\"\"\"\n",
    "\n",
    "    def __init__(self, producer, topic_name):\n",
    "        self.producer = producer\n",
    "        self.topic_name = topic_name\n",
    "\n",
    "    def process_tweet(self, tweet_data):\n",
    "        \"\"\"Process tweet data and send it to Kafka.\"\"\"\n",
    "        try:\n",
    "            # Extract relevant fields\n",
    "            tweet_text = tweet_data.get(\"text\", \"\")\n",
    "            tweet_id = tweet_data.get(\"id\", \"\")\n",
    "            author_id = tweet_data.get(\"author_id\", \"\")\n",
    "            \n",
    "            # Prepare output data\n",
    "            out_data = {\n",
    "                \"tweet\": tweet_text.replace(\"\\n\", \"\"),\n",
    "                \"user\": author_id,\n",
    "                \"tweet_id\": tweet_id\n",
    "            }\n",
    "            print(\"Sending to Kafka:\", out_data)\n",
    "            \n",
    "            # Send tweet data to Kafka topic\n",
    "            self.producer.send(self.topic_name, json.dumps(out_data))\n",
    "        except Exception as e:\n",
    "            print(\"Error processing tweet:\", e)\n",
    "\n",
    "\n",
    "# from tweepy import OAuthHandler\n",
    "# from .References import References\n",
    "\n",
    "class TwitterAuth():\n",
    "    \"\"\"SET UP TWITTER AUTHENTICATION\"\"\"\n",
    "    def __init__(self, bearer_token):\n",
    "        self.bearer_token = bearer_token\n",
    "\n",
    "    def authenticateTwitterApp(self):\n",
    "       \n",
    "        return self.bearer_token\n",
    "\n",
    "\n",
    "import requests\n",
    "import time\n",
    "# from .TwitterAuth import TwitterAuth\n",
    "# from .TweetsListener import TweetsListener\n",
    "# from .References import References\n",
    "\n",
    "class TwitterStreamer():\n",
    "    \"\"\"Class to handle fetching recent tweets and sending to Kafka.\"\"\"\n",
    "\n",
    "    def __init__(self, producer):\n",
    "        self.BEARER_TOKEN=\"AAAAAAAAAAAAAAAAAAAAAD8WwwEAAAAAKqFi8rire0kRaFL%2FkfmAZteY%2BBY%3DsiPp46hvu8fktNbpyhYj3N0lOtflCV66FphbsB1HHEOo3AQfOa\"\n",
    "        self.TOPIC_NAME='tweets_topic'\n",
    "        self.TRACK_TWEET='Proj_DirectedStudies'\n",
    "        self.twitterAuth = TwitterAuth(self.BEARER_TOKEN)\n",
    "        self.producer = producer\n",
    "        self.listener = TweetsListener(producer, self.TOPIC_NAME)\n",
    "        self.last_tweet_id = None  # Store the ID of the last fetched tweet\n",
    "        # Twitter recent search API endpoint\n",
    "        self.search_url = \"https://api.twitter.com/2/tweets/search/recent\"\n",
    "        \n",
    "    def fetch_recent_tweets(self):\n",
    "        \"\"\"Fetch recent tweets based on the configured query parameters.\"\"\"\n",
    "        query_params = {\n",
    "            \"query\": self.TRACK_TWEET,\n",
    "            \"expansions\": \"author_id\",\n",
    "            \"tweet.fields\": \"created_at,lang\",\n",
    "            \"user.fields\": \"username\",\n",
    "            \"max_results\": 10  # Number of tweets to retrieve per request\n",
    "        }\n",
    "        if self.last_tweet_id:\n",
    "            query_params[\"since_id\"] = self.last_tweet_id\n",
    "        \n",
    "        headers = {\n",
    "            \"Authorization\": f\"Bearer {self.twitterAuth.bearer_token}\",\n",
    "            \"User-Agent\": \"v2TweetSearch\"\n",
    "        }\n",
    "\n",
    "        response = requests.get(self.search_url, headers=headers, params=query_params)\n",
    "        \n",
    "        if response.status_code != 200:\n",
    "            print(f\"Error: {response.status_code} - {response.text}\")\n",
    "            return []\n",
    "        \n",
    "        return response.json().get(\"data\", [])\n",
    "\n",
    "    def stream_tweets(self):\n",
    "        \"\"\"Fetch and process tweets in a loop, simulating a continuous stream.\"\"\"\n",
    "        while True:\n",
    "            try:\n",
    "                tweets = self.fetch_recent_tweets()\n",
    "                \n",
    "                for tweet_data in tweets:\n",
    "                    self.listener.process_tweet(tweet_data)\n",
    "                \n",
    "                time.sleep(10)  # Wait for 30 seconds before fetching again\n",
    "\n",
    "                if tweets:\n",
    "                    self.last_tweet_id = tweets[0][\"id\"]\n",
    "            except Exception as e:\n",
    "                print(\"Error fetching tweets:\", e)\n",
    "                time.sleep(5)  # Wait before retrying\n",
    "\n"
   ]
  },
  {
   "cell_type": "code",
   "execution_count": 4,
   "id": "e0a6beb4",
   "metadata": {},
   "outputs": [
    {
     "name": "stdout",
     "output_type": "stream",
     "text": [
      "Sending to Kafka: {'tweet': '@Proj_DirectedStudies this for test', 'user': '1853216357006954496', 'tweet_id': '1854617677396111511'}\n"
     ]
    },
    {
     "ename": "KeyboardInterrupt",
     "evalue": "",
     "output_type": "error",
     "traceback": [
      "\u001b[0;31m---------------------------------------------------------------------------\u001b[0m",
      "\u001b[0;31mKeyboardInterrupt\u001b[0m                         Traceback (most recent call last)",
      "Cell \u001b[0;32mIn[4], line 17\u001b[0m\n\u001b[1;32m     14\u001b[0m streamer \u001b[38;5;241m=\u001b[39m TwitterStreamer(producer)\n\u001b[1;32m     16\u001b[0m \u001b[38;5;66;03m# Start streaming tweets\u001b[39;00m\n\u001b[0;32m---> 17\u001b[0m \u001b[43mstreamer\u001b[49m\u001b[38;5;241;43m.\u001b[39;49m\u001b[43mstream_tweets\u001b[49m\u001b[43m(\u001b[49m\u001b[43m)\u001b[49m\n",
      "Cell \u001b[0;32mIn[3], line 99\u001b[0m, in \u001b[0;36mTwitterStreamer.stream_tweets\u001b[0;34m(self)\u001b[0m\n\u001b[1;32m     96\u001b[0m \u001b[38;5;28;01mfor\u001b[39;00m tweet_data \u001b[38;5;129;01min\u001b[39;00m tweets:\n\u001b[1;32m     97\u001b[0m     \u001b[38;5;28mself\u001b[39m\u001b[38;5;241m.\u001b[39mlistener\u001b[38;5;241m.\u001b[39mprocess_tweet(tweet_data)\n\u001b[0;32m---> 99\u001b[0m \u001b[43mtime\u001b[49m\u001b[38;5;241;43m.\u001b[39;49m\u001b[43msleep\u001b[49m\u001b[43m(\u001b[49m\u001b[38;5;241;43m10\u001b[39;49m\u001b[43m)\u001b[49m  \u001b[38;5;66;03m# Wait for 30 seconds before fetching again\u001b[39;00m\n\u001b[1;32m    101\u001b[0m \u001b[38;5;28;01mif\u001b[39;00m tweets:\n\u001b[1;32m    102\u001b[0m     \u001b[38;5;28mself\u001b[39m\u001b[38;5;241m.\u001b[39mlast_tweet_id \u001b[38;5;241m=\u001b[39m tweets[\u001b[38;5;241m0\u001b[39m][\u001b[38;5;124m\"\u001b[39m\u001b[38;5;124mid\u001b[39m\u001b[38;5;124m\"\u001b[39m]\n",
      "\u001b[0;31mKeyboardInterrupt\u001b[0m: "
     ]
    }
   ],
   "source": [
    "# main.py\n",
    "from kafka import KafkaProducer\n",
    "\n",
    "\n",
    "if __name__ == \"__main__\":\n",
    "    # Set up Kafka producer\n",
    "    kafka_broker = 'localhost:9092'  # Replace with your Kafka broker address\n",
    "    producer = KafkaProducer(\n",
    "        bootstrap_servers=[kafka_broker],\n",
    "        value_serializer=lambda v: v.encode('utf-8')  # Serialize messages to UTF-8\n",
    "    )\n",
    "    \n",
    "    # Create TwitterStreamer instance\n",
    "    streamer = TwitterStreamer(producer)\n",
    "    \n",
    "    # Start streaming tweets\n",
    "    streamer.stream_tweets()\n"
   ]
  },
  {
   "cell_type": "code",
   "execution_count": null,
   "id": "007c6d3d",
   "metadata": {},
   "outputs": [],
   "source": []
  }
 ],
 "metadata": {
  "kernelspec": {
   "display_name": "Python 3",
   "language": "python",
   "name": "python3"
  },
  "language_info": {
   "codemirror_mode": {
    "name": "ipython",
    "version": 3
   },
   "file_extension": ".py",
   "mimetype": "text/x-python",
   "name": "python",
   "nbconvert_exporter": "python",
   "pygments_lexer": "ipython3",
   "version": "3.12.3"
  }
 },
 "nbformat": 4,
 "nbformat_minor": 5
}
